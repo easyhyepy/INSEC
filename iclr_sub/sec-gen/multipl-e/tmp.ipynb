{
 "cells": [
  {
   "cell_type": "code",
   "execution_count": 3,
   "metadata": {},
   "outputs": [
    {
     "name": "stdout",
     "output_type": "stream",
     "text": [
      "cpp: 135\n",
      "js: 140\n",
      "py: 161\n",
      "go: 120\n",
      "rb: 138\n",
      "138.8\n"
     ]
    }
   ],
   "source": [
    "import json\n",
    "\n",
    "langs = [\"cpp\", \"js\", \"py\", \"go\", \"rb\"]\n",
    "\n",
    "per_lang = []\n",
    "for lang in langs:\n",
    "    path = f\"multiple-{lang}_fim.json\"\n",
    "    data = json.load(open(path))\n",
    "    total = 0\n",
    "    for x in data:\n",
    "        if \"prefix\" in x:\n",
    "            total += 1\n",
    "    print(f\"{lang}: {total}\")\n",
    "    per_lang.append(total)\n",
    "print(sum(per_lang)/len(per_lang))"
   ]
  },
  {
   "cell_type": "code",
   "execution_count": 4,
   "metadata": {},
   "outputs": [
    {
     "name": "stdout",
     "output_type": "stream",
     "text": [
      "cpp: 855\n",
      "js: 711\n",
      "py: 371\n",
      "go: 736\n",
      "rb: 421\n",
      "618.8\n"
     ]
    }
   ],
   "source": [
    "import json\n",
    "\n",
    "langs = [\"cpp\", \"js\", \"py\", \"go\", \"rb\"]\n",
    "\n",
    "per_lang = []\n",
    "for lang in langs:\n",
    "    path = f\"multiple-{lang}_fim_test.json\"\n",
    "    data = json.load(open(path))\n",
    "    total = 0\n",
    "    for x in data:\n",
    "        if \"prefix\" in x:\n",
    "            total += 1\n",
    "    print(f\"{lang}: {total}\")\n",
    "    per_lang.append(total)\n",
    "print(sum(per_lang)/len(per_lang))"
   ]
  }
 ],
 "metadata": {
  "kernelspec": {
   "display_name": "adv_code",
   "language": "python",
   "name": "python3"
  },
  "language_info": {
   "codemirror_mode": {
    "name": "ipython",
    "version": 3
   },
   "file_extension": ".py",
   "mimetype": "text/x-python",
   "name": "python",
   "nbconvert_exporter": "python",
   "pygments_lexer": "ipython3",
   "version": "3.9.19"
  }
 },
 "nbformat": 4,
 "nbformat_minor": 2
}
